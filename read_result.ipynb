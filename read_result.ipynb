{
 "cells": [
  {
   "cell_type": "code",
   "execution_count": 1,
   "metadata": {},
   "outputs": [],
   "source": [
    "import numpy as np\n",
    "import pandas as pd"
   ]
  },
  {
   "cell_type": "code",
   "execution_count": 2,
   "metadata": {},
   "outputs": [],
   "source": [
    "df = pd.read_csv('results.csv', header=None, delimiter=',', names=['target', '5', 'L/10', 'L/5', 'L/2', 'L', '2L', 'All'])"
   ]
  },
  {
   "cell_type": "code",
   "execution_count": 3,
   "metadata": {},
   "outputs": [],
   "source": [
    "result = df[df['target'].str.endswith('.rr')]"
   ]
  },
  {
   "cell_type": "code",
   "execution_count": 4,
   "metadata": {},
   "outputs": [
    {
     "data": {
      "text/html": [
       "<div>\n",
       "<style scoped>\n",
       "    .dataframe tbody tr th:only-of-type {\n",
       "        vertical-align: middle;\n",
       "    }\n",
       "\n",
       "    .dataframe tbody tr th {\n",
       "        vertical-align: top;\n",
       "    }\n",
       "\n",
       "    .dataframe thead th {\n",
       "        text-align: right;\n",
       "    }\n",
       "</style>\n",
       "<table border=\"1\" class=\"dataframe\">\n",
       "  <thead>\n",
       "    <tr style=\"text-align: right;\">\n",
       "      <th></th>\n",
       "      <th>target</th>\n",
       "      <th>5</th>\n",
       "      <th>L/10</th>\n",
       "      <th>L/5</th>\n",
       "      <th>L/2</th>\n",
       "      <th>L</th>\n",
       "      <th>2L</th>\n",
       "      <th>All</th>\n",
       "    </tr>\n",
       "  </thead>\n",
       "  <tbody>\n",
       "    <tr>\n",
       "      <td>0</td>\n",
       "      <td>1brfA.rr</td>\n",
       "      <td>40.0</td>\n",
       "      <td>40.00</td>\n",
       "      <td>36.36</td>\n",
       "      <td>25.93</td>\n",
       "      <td>24.53</td>\n",
       "      <td>22.64</td>\n",
       "      <td>NaN</td>\n",
       "    </tr>\n",
       "    <tr>\n",
       "      <td>2</td>\n",
       "      <td>1aapA.rr</td>\n",
       "      <td>100.0</td>\n",
       "      <td>100.00</td>\n",
       "      <td>63.64</td>\n",
       "      <td>53.57</td>\n",
       "      <td>44.64</td>\n",
       "      <td>29.46</td>\n",
       "      <td>NaN</td>\n",
       "    </tr>\n",
       "    <tr>\n",
       "      <td>4</td>\n",
       "      <td>1ctfA.rr</td>\n",
       "      <td>100.0</td>\n",
       "      <td>100.00</td>\n",
       "      <td>100.00</td>\n",
       "      <td>73.53</td>\n",
       "      <td>55.88</td>\n",
       "      <td>33.82</td>\n",
       "      <td>NaN</td>\n",
       "    </tr>\n",
       "    <tr>\n",
       "      <td>6</td>\n",
       "      <td>1atzA.rr</td>\n",
       "      <td>80.0</td>\n",
       "      <td>62.50</td>\n",
       "      <td>73.33</td>\n",
       "      <td>39.47</td>\n",
       "      <td>28.00</td>\n",
       "      <td>24.00</td>\n",
       "      <td>NaN</td>\n",
       "    </tr>\n",
       "    <tr>\n",
       "      <td>8</td>\n",
       "      <td>1c9oA.rr</td>\n",
       "      <td>80.0</td>\n",
       "      <td>85.71</td>\n",
       "      <td>61.54</td>\n",
       "      <td>36.36</td>\n",
       "      <td>22.73</td>\n",
       "      <td>16.67</td>\n",
       "      <td>NaN</td>\n",
       "    </tr>\n",
       "  </tbody>\n",
       "</table>\n",
       "</div>"
      ],
      "text/plain": [
       "     target      5    L/10     L/5    L/2      L     2L  All\n",
       "0  1brfA.rr   40.0   40.00   36.36  25.93  24.53  22.64  NaN\n",
       "2  1aapA.rr  100.0  100.00   63.64  53.57  44.64  29.46  NaN\n",
       "4  1ctfA.rr  100.0  100.00  100.00  73.53  55.88  33.82  NaN\n",
       "6  1atzA.rr   80.0   62.50   73.33  39.47  28.00  24.00  NaN\n",
       "8  1c9oA.rr   80.0   85.71   61.54  36.36  22.73  16.67  NaN"
      ]
     },
     "execution_count": 4,
     "metadata": {},
     "output_type": "execute_result"
    }
   ],
   "source": [
    "result.head()"
   ]
  },
  {
   "cell_type": "code",
   "execution_count": 12,
   "metadata": {},
   "outputs": [
    {
     "name": "stdout",
     "output_type": "stream",
     "text": [
      "Total test targets: 150\n",
      "\n",
      "Test precision:\n",
      "5     precision = 69.73\n",
      "L/10  precision = 58.61\n",
      "L/5   precision = 47.85\n",
      "L/2   precision = 33.28\n",
      "L     precision = 23.34\n"
     ]
    }
   ],
   "source": [
    "print('Total test targets: {}\\n'.format(len(result)))\n",
    "print('Test precision:')\n",
    "for m in ['5', 'L/10', 'L/5', 'L/2', 'L']:\n",
    "    print('{:5s} precision = {:.2f}'.format(m, result[m].mean()))\n"
   ]
  }
 ],
 "metadata": {
  "kernelspec": {
   "display_name": "Python 3",
   "language": "python",
   "name": "python3"
  },
  "language_info": {
   "codemirror_mode": {
    "name": "ipython",
    "version": 3
   },
   "file_extension": ".py",
   "mimetype": "text/x-python",
   "name": "python",
   "nbconvert_exporter": "python",
   "pygments_lexer": "ipython3",
   "version": "3.7.3"
  }
 },
 "nbformat": 4,
 "nbformat_minor": 4
}
